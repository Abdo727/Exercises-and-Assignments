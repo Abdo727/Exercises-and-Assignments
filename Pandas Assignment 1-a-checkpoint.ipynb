{
 "cells": [
  {
   "cell_type": "markdown",
   "metadata": {},
   "source": [
    "## Loading/Exploring the data\n",
    "\n",
    "Load the iris.csv file into a pandas dataframe. Take a minute to familiarize yourself with the data."
   ]
  },
  {
   "cell_type": "markdown",
   "metadata": {},
   "source": [
    "## Import Pandas\n",
    "\n",
    "Import the `pandas` library as `pd`"
   ]
  },
  {
   "cell_type": "code",
   "execution_count": 1,
   "metadata": {},
   "outputs": [],
   "source": [
    "import pandas as pd"
   ]
  },
  {
   "cell_type": "markdown",
   "metadata": {},
   "source": [
    "Read the `iris.csv` dataset into an object named `iris`"
   ]
  },
  {
   "cell_type": "code",
   "execution_count": 2,
   "metadata": {},
   "outputs": [],
   "source": [
    "iris = pd.read_csv('iris.csv')"
   ]
  },
  {
   "cell_type": "markdown",
   "metadata": {},
   "source": [
    "How many different species are in this dataset?"
   ]
  },
  {
   "cell_type": "markdown",
   "metadata": {},
   "source": [
    "The Iris dataset contains three different species of iris flowers."
   ]
  },
  {
   "cell_type": "markdown",
   "metadata": {},
   "source": [
    "What are their names?"
   ]
  },
  {
   "cell_type": "code",
   "execution_count": null,
   "metadata": {},
   "outputs": [],
   "source": [
    "Setosa Versicolor Virginica"
   ]
  },
  {
   "cell_type": "markdown",
   "metadata": {},
   "source": [
    "How many samples are there per species?\n",
    "\n",
    "<details><summary>Hint</summary>Use the <a href=\"http://pandas.pydata.org/pandas-docs/stable/generated/pandas.Series.value_counts.html\"><code>.value_counts()</code></a> method</details>"
   ]
  },
  {
   "cell_type": "code",
   "execution_count": 4,
   "metadata": {},
   "outputs": [
    {
     "name": "stdout",
     "output_type": "stream",
     "text": [
      "species\n",
      "setosa        50\n",
      "versicolor    50\n",
      "virginica     50\n",
      "Name: count, dtype: int64\n"
     ]
    }
   ],
   "source": [
    "species_counts = iris['species'].value_counts()\n",
    "print(species_counts)"
   ]
  },
  {
   "cell_type": "markdown",
   "metadata": {},
   "source": [
    "## Feature Engineering\n",
    "\n",
    "Create a new column called `'sepal_ratio'` which is equal to sepal width / sepal length"
   ]
  },
  {
   "cell_type": "code",
   "execution_count": 8,
   "metadata": {},
   "outputs": [
    {
     "name": "stdout",
     "output_type": "stream",
     "text": [
      "   sepal length (cm)  sepal width (cm)  petal length (cm)  petal width (cm)  \\\n",
      "0                5.1               3.5                1.4               0.2   \n",
      "1                4.9               3.0                1.4               0.2   \n",
      "2                4.7               3.2                1.3               0.2   \n",
      "3                4.6               3.1                1.5               0.2   \n",
      "4                5.0               3.6                1.4               0.2   \n",
      "\n",
      "  species  sepal_ratio  \n",
      "0  setosa     0.686275  \n",
      "1  setosa     0.612245  \n",
      "2  setosa     0.680851  \n",
      "3  setosa     0.673913  \n",
      "4  setosa     0.720000  \n"
     ]
    }
   ],
   "source": [
    "iris['sepal_ratio'] = iris['sepal width (cm)'] / iris['sepal length (cm)']\n",
    "print(iris.head())"
   ]
  },
  {
   "cell_type": "markdown",
   "metadata": {},
   "source": [
    "Create a similar column called `'petal_ratio'`: petal width / petal length"
   ]
  },
  {
   "cell_type": "code",
   "execution_count": 11,
   "metadata": {},
   "outputs": [
    {
     "name": "stdout",
     "output_type": "stream",
     "text": [
      "   sepal length (cm)  sepal width (cm)  petal length (cm)  petal width (cm)  \\\n",
      "0                5.1               3.5                1.4               0.2   \n",
      "1                4.9               3.0                1.4               0.2   \n",
      "2                4.7               3.2                1.3               0.2   \n",
      "3                4.6               3.1                1.5               0.2   \n",
      "4                5.0               3.6                1.4               0.2   \n",
      "\n",
      "  species  sepal_ratio  petal_ratio  \n",
      "0  setosa     0.686275     0.142857  \n",
      "1  setosa     0.612245     0.142857  \n",
      "2  setosa     0.680851     0.153846  \n",
      "3  setosa     0.673913     0.133333  \n",
      "4  setosa     0.720000     0.142857  \n"
     ]
    }
   ],
   "source": [
    "iris['petal_ratio'] = iris['petal width (cm)'] / iris['petal length (cm)']\n",
    "\n",
    "# Display the first few rows to check the new column\n",
    "print(iris.head())"
   ]
  },
  {
   "cell_type": "markdown",
   "metadata": {},
   "source": [
    "Create 4 columns that correspond to `sepal length (cm)`, `sepal width (cm)`, `petal length (cm)`, and `petal width (cm)`, only in inches."
   ]
  },
  {
   "cell_type": "code",
   "execution_count": 12,
   "metadata": {},
   "outputs": [
    {
     "name": "stdout",
     "output_type": "stream",
     "text": [
      "   sepal length (cm)  sepal width (cm)  petal length (cm)  petal width (cm)  \\\n",
      "0                5.1               3.5                1.4               0.2   \n",
      "1                4.9               3.0                1.4               0.2   \n",
      "2                4.7               3.2                1.3               0.2   \n",
      "3                4.6               3.1                1.5               0.2   \n",
      "4                5.0               3.6                1.4               0.2   \n",
      "\n",
      "  species  sepal_ratio  petal_ratio  sepal length (in)  sepal width (in)  \\\n",
      "0  setosa     0.686275     0.142857           2.007874          1.377953   \n",
      "1  setosa     0.612245     0.142857           1.929134          1.181102   \n",
      "2  setosa     0.680851     0.153846           1.850394          1.259843   \n",
      "3  setosa     0.673913     0.133333           1.811024          1.220472   \n",
      "4  setosa     0.720000     0.142857           1.968504          1.417323   \n",
      "\n",
      "   petal length (in)  petal width (in)  \n",
      "0           0.551181           0.07874  \n",
      "1           0.551181           0.07874  \n",
      "2           0.511811           0.07874  \n",
      "3           0.590551           0.07874  \n",
      "4           0.551181           0.07874  \n"
     ]
    }
   ],
   "source": [
    "iris['sepal length (in)'] = iris['sepal length (cm)'] / 2.54\n",
    "iris['sepal width (in)'] = iris['sepal width (cm)'] / 2.54\n",
    "iris['petal length (in)'] = iris['petal length (cm)'] / 2.54\n",
    "iris['petal width (in)'] = iris['petal width (cm)'] / 2.54\n",
    "print(iris.head())"
   ]
  },
  {
   "cell_type": "markdown",
   "metadata": {},
   "source": [
    "## Apply\n",
    "\n",
    "Create a column called `'encoded_species'`:\n",
    "- 0 for setosa\n",
    "- 1 for versicolor\n",
    "- 2 for virginica\n",
    "\n",
    "\n",
    "Hint 1\n",
    "Create a dictionary using the species as keys and the numbers 0-2 for values\n",
    "\n",
    "\n",
    "Hint 2\n",
    "    Use the dictionary in hint 1 with the <code>.apply()</code> method to create the new column\n"
   ]
  },
  {
   "cell_type": "code",
   "execution_count": 13,
   "metadata": {},
   "outputs": [
    {
     "name": "stdout",
     "output_type": "stream",
     "text": [
      "   sepal length (cm)  sepal width (cm)  petal length (cm)  petal width (cm)  \\\n",
      "0                5.1               3.5                1.4               0.2   \n",
      "1                4.9               3.0                1.4               0.2   \n",
      "2                4.7               3.2                1.3               0.2   \n",
      "3                4.6               3.1                1.5               0.2   \n",
      "4                5.0               3.6                1.4               0.2   \n",
      "\n",
      "  species  sepal_ratio  petal_ratio  sepal length (in)  sepal width (in)  \\\n",
      "0  setosa     0.686275     0.142857           2.007874          1.377953   \n",
      "1  setosa     0.612245     0.142857           1.929134          1.181102   \n",
      "2  setosa     0.680851     0.153846           1.850394          1.259843   \n",
      "3  setosa     0.673913     0.133333           1.811024          1.220472   \n",
      "4  setosa     0.720000     0.142857           1.968504          1.417323   \n",
      "\n",
      "   petal length (in)  petal width (in)  encoded_species  \n",
      "0           0.551181           0.07874                0  \n",
      "1           0.551181           0.07874                0  \n",
      "2           0.511811           0.07874                0  \n",
      "3           0.590551           0.07874                0  \n",
      "4           0.551181           0.07874                0  \n"
     ]
    }
   ],
   "source": [
    "species_dict = {\n",
    "    'setosa': 0,\n",
    "    'versicolor': 1,\n",
    "    'virginica': 2\n",
    "}\n",
    "iris['encoded_species'] = iris['species'].apply(lambda x: species_dict[x])\n",
    "print(iris.head())"
   ]
  },
  {
   "cell_type": "markdown",
   "metadata": {},
   "source": [
    "## March Madness\n",
    "\n",
    "Let's change up the dataset to something different than flowers: March Madness!\n",
    "\n",
    "Read in the dataset `ncaa-seeds.csv` to an object named `seeds`.\n",
    "\n",
    "This dataframe simulates the games that will occur in the first round of the [NCAA basketball tournament](http://www.sportingnews.com/au/ncaa-basketball/news/ncaa-tournament-2017-march-madness-bracket-schedule-matchups-print-a-bracket/1r6cau9sb1xj4131zzhay2dj5g). In the first row, you should see the following:\n",
    "\n",
    "| team_seed | opponent_seed |\n",
    "|-----------|---------------|\n",
    "| 01N       | 16N           |"
   ]
  },
  {
   "cell_type": "code",
   "execution_count": 16,
   "metadata": {},
   "outputs": [
    {
     "data": {
      "text/html": [
       "<div>\n",
       "<style scoped>\n",
       "    .dataframe tbody tr th:only-of-type {\n",
       "        vertical-align: middle;\n",
       "    }\n",
       "\n",
       "    .dataframe tbody tr th {\n",
       "        vertical-align: top;\n",
       "    }\n",
       "\n",
       "    .dataframe thead th {\n",
       "        text-align: right;\n",
       "    }\n",
       "</style>\n",
       "<table border=\"1\" class=\"dataframe\">\n",
       "  <thead>\n",
       "    <tr style=\"text-align: right;\">\n",
       "      <th></th>\n",
       "      <th>team_seed</th>\n",
       "      <th>opponent_seed</th>\n",
       "    </tr>\n",
       "  </thead>\n",
       "  <tbody>\n",
       "    <tr>\n",
       "      <th>0</th>\n",
       "      <td>01N</td>\n",
       "      <td>16N</td>\n",
       "    </tr>\n",
       "    <tr>\n",
       "      <th>1</th>\n",
       "      <td>02N</td>\n",
       "      <td>15N</td>\n",
       "    </tr>\n",
       "    <tr>\n",
       "      <th>2</th>\n",
       "      <td>03N</td>\n",
       "      <td>14N</td>\n",
       "    </tr>\n",
       "    <tr>\n",
       "      <th>3</th>\n",
       "      <td>04N</td>\n",
       "      <td>13N</td>\n",
       "    </tr>\n",
       "    <tr>\n",
       "      <th>4</th>\n",
       "      <td>05N</td>\n",
       "      <td>12N</td>\n",
       "    </tr>\n",
       "  </tbody>\n",
       "</table>\n",
       "</div>"
      ],
      "text/plain": [
       "  team_seed opponent_seed\n",
       "0       01N           16N\n",
       "1       02N           15N\n",
       "2       03N           14N\n",
       "3       04N           13N\n",
       "4       05N           12N"
      ]
     },
     "execution_count": 16,
     "metadata": {},
     "output_type": "execute_result"
    }
   ],
   "source": [
    "seeds = pd.read_csv('ncaa-seeds.csv')\n",
    "seeds.head()"
   ]
  },
  {
   "cell_type": "markdown",
   "metadata": {},
   "source": [
    "For team_seed, the 01 is their seed, and N is their division (North). This row is saying the 1st seed in the north division will play the 16th seed (same division).\n",
    "\n",
    "Using the `.apply()` method, create the following new columns:\n",
    "- `team_division`\n",
    "- `opponent_division`\n",
    "\n",
    "The first row of your result should look as follows:\n",
    "\n",
    "| team_seed | opponent_seed | team_division | opponent_division |\n",
    "|-----------|---------------|---------------|-------------------|\n",
    "| 01N       | 16N           | N             | N                 |\n"
   ]
  },
  {
   "cell_type": "code",
   "execution_count": 17,
   "metadata": {},
   "outputs": [
    {
     "name": "stdout",
     "output_type": "stream",
     "text": [
      "   team_seed opponent_seed team_division opponent_division\n",
      "0        01N           16N             N                 N\n",
      "1        02N           15N             N                 N\n",
      "2        03N           14N             N                 N\n",
      "3        04N           13N             N                 N\n",
      "4        05N           12N             N                 N\n",
      "5        06N           11N             N                 N\n",
      "6        07N           10N             N                 N\n",
      "7        08N           09N             N                 N\n",
      "8        01S           16S             S                 S\n",
      "9        02S           15S             S                 S\n",
      "10       03S           14S             S                 S\n",
      "11       04S           13S             S                 S\n",
      "12       05S           12S             S                 S\n",
      "13       06S           11S             S                 S\n",
      "14       07S           10S             S                 S\n",
      "15       08S           09S             S                 S\n",
      "16       01E           16E             E                 E\n",
      "17       02E           15E             E                 E\n",
      "18       03E           14E             E                 E\n",
      "19       04E           13E             E                 E\n",
      "20       05E           12E             E                 E\n",
      "21       06E           11E             E                 E\n",
      "22       07E           10E             E                 E\n",
      "23       08E           09E             E                 E\n",
      "24       01W           16W             W                 W\n",
      "25       02W           15W             W                 W\n",
      "26       03W           14W             W                 W\n",
      "27       04W           13W             W                 W\n",
      "28       05W           12W             W                 W\n",
      "29       06W           11W             W                 W\n",
      "30       07W           10W             W                 W\n",
      "31       08W           09W             W                 W\n"
     ]
    }
   ],
   "source": [
    "seeds['team_division'] = seeds['team_seed'].apply(lambda x: x[-1])  # Last character is the division for the team\n",
    "seeds['opponent_division'] = seeds['opponent_seed'].apply(lambda x: x[-1])  # Last character is the division for the opponent\n",
    "\n",
    "# Display the updated DataFrame\n",
    "print(seeds)"
   ]
  },
  {
   "cell_type": "markdown",
   "metadata": {},
   "source": [
    "Now that you have the divisions, change the `team_seed` and `opponent_seed` columns to just be the numbers.\n",
    "\n",
    "The first row of your result should look as follows:\n",
    "\n",
    "| team_seed | opponent_seed | team_division | opponent_division |\n",
    "|-----------|---------------|---------------|-------------------|\n",
    "| 1         | 16            | N             | N                 |"
   ]
  },
  {
   "cell_type": "code",
   "execution_count": 18,
   "metadata": {},
   "outputs": [
    {
     "name": "stdout",
     "output_type": "stream",
     "text": [
      "   team_seed opponent_seed team_division opponent_division\n",
      "0         01            16             N                 N\n",
      "1         02            15             N                 N\n",
      "2         03            14             N                 N\n",
      "3         04            13             N                 N\n",
      "4         05            12             N                 N\n",
      "5         06            11             N                 N\n",
      "6         07            10             N                 N\n",
      "7         08            09             N                 N\n",
      "8         01            16             S                 S\n",
      "9         02            15             S                 S\n",
      "10        03            14             S                 S\n",
      "11        04            13             S                 S\n",
      "12        05            12             S                 S\n",
      "13        06            11             S                 S\n",
      "14        07            10             S                 S\n",
      "15        08            09             S                 S\n",
      "16        01            16             E                 E\n",
      "17        02            15             E                 E\n",
      "18        03            14             E                 E\n",
      "19        04            13             E                 E\n",
      "20        05            12             E                 E\n",
      "21        06            11             E                 E\n",
      "22        07            10             E                 E\n",
      "23        08            09             E                 E\n",
      "24        01            16             W                 W\n",
      "25        02            15             W                 W\n",
      "26        03            14             W                 W\n",
      "27        04            13             W                 W\n",
      "28        05            12             W                 W\n",
      "29        06            11             W                 W\n",
      "30        07            10             W                 W\n",
      "31        08            09             W                 W\n"
     ]
    }
   ],
   "source": [
    "seeds['team_division'] = seeds['team_seed'].apply(lambda x: x[-1])  \n",
    "seeds['opponent_division'] = seeds['opponent_seed'].apply(lambda x: x[-1]) \n",
    "seeds['team_seed'] = seeds['team_seed'].apply(lambda x: x[:2]) \n",
    "seeds['opponent_seed'] = seeds['opponent_seed'].apply(lambda x: x[:2]) \n",
    "print(seeds)"
   ]
  },
  {
   "cell_type": "markdown",
   "metadata": {},
   "source": [
    "Create a new column called seed_delta, which is the difference between the team's seed and their opponent's. \n",
    "\n",
    "The first row of your result should look as follows:\n",
    "\n",
    "| team_seed | opponent_seed | team_division | opponent_division | seed_delta |\n",
    "|-----------|---------------|---------------|-------------------|------------|\n",
    "| 1         | 16            | N             | N                 | -15        |\n",
    "\n",
    "<br>\n",
    "<details><summary>Did you get an error?</summary>\n",
    "team_seed and opponent_seed need to be numerical columns in order for you to perform mathematical operations on them.\n",
    "</details>"
   ]
  },
  {
   "cell_type": "code",
   "execution_count": 25,
   "metadata": {},
   "outputs": [
    {
     "name": "stdout",
     "output_type": "stream",
     "text": [
      "    team_seed  opponent_seed team_division opponent_division  seed_delta\n",
      "0           1             16             1                 6         -15\n",
      "1           2             15             2                 5         -13\n",
      "2           3             14             3                 4         -11\n",
      "3           4             13             4                 3          -9\n",
      "4           5             12             5                 2          -7\n",
      "5           6             11             6                 1          -5\n",
      "6           7             10             7                 0          -3\n",
      "7           8              9             8                 9          -1\n",
      "8           1             16             1                 6         -15\n",
      "9           2             15             2                 5         -13\n",
      "10          3             14             3                 4         -11\n",
      "11          4             13             4                 3          -9\n",
      "12          5             12             5                 2          -7\n",
      "13          6             11             6                 1          -5\n",
      "14          7             10             7                 0          -3\n",
      "15          8              9             8                 9          -1\n",
      "16          1             16             1                 6         -15\n",
      "17          2             15             2                 5         -13\n",
      "18          3             14             3                 4         -11\n",
      "19          4             13             4                 3          -9\n",
      "20          5             12             5                 2          -7\n",
      "21          6             11             6                 1          -5\n",
      "22          7             10             7                 0          -3\n",
      "23          8              9             8                 9          -1\n",
      "24          1             16             1                 6         -15\n",
      "25          2             15             2                 5         -13\n",
      "26          3             14             3                 4         -11\n",
      "27          4             13             4                 3          -9\n",
      "28          5             12             5                 2          -7\n",
      "29          6             11             6                 1          -5\n",
      "30          7             10             7                 0          -3\n",
      "31          8              9             8                 9          -1\n"
     ]
    }
   ],
   "source": [
    "seeds['seed_delta'] = seeds['team_seed'] - seeds['opponent_seed']\n",
    "print(seeds)"
   ]
  },
  {
   "cell_type": "code",
   "execution_count": null,
   "metadata": {},
   "outputs": [],
   "source": []
  },
  {
   "cell_type": "code",
   "execution_count": null,
   "metadata": {},
   "outputs": [],
   "source": []
  }
 ],
 "metadata": {
  "anaconda-cloud": {},
  "kernelspec": {
   "display_name": "Python 3 (ipykernel)",
   "language": "python",
   "name": "python3"
  },
  "language_info": {
   "codemirror_mode": {
    "name": "ipython",
    "version": 3
   },
   "file_extension": ".py",
   "mimetype": "text/x-python",
   "name": "python",
   "nbconvert_exporter": "python",
   "pygments_lexer": "ipython3",
   "version": "3.12.4"
  }
 },
 "nbformat": 4,
 "nbformat_minor": 4
}
